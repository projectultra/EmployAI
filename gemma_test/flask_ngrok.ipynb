{
 "cells": [
  {
   "cell_type": "code",
   "execution_count": null,
   "metadata": {},
   "outputs": [],
   "source": [
    "%pip install flask pyngrok\n",
    "from flask import Flask\n",
    "from pyngrok import ngrok\n",
    "\n",
    "app = Flask(__name__)\n",
    "\n",
    "@app.route(\"/\")\n",
    "def hello():\n",
    "    return \"Hello World\"\n",
    "\n",
    "if __name__ == '__main__':\n",
    "  ngrok.set_auth_token(\"YOUR_NGROK_AUTH\")\n",
    "  ngrok_tunnel = ngrok.connect(5000)\n",
    "  print('Public URL:', ngrok_tunnel.public_url)\n",
    "  app.run()"
   ]
  },
  {
   "cell_type": "code",
   "execution_count": null,
   "metadata": {},
   "outputs": [],
   "source": []
  }
 ],
 "metadata": {
  "language_info": {
   "name": "python"
  }
 },
 "nbformat": 4,
 "nbformat_minor": 2
}
